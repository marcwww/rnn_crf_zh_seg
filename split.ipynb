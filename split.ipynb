{
 "cells": [
  {
   "cell_type": "code",
   "execution_count": 6,
   "metadata": {},
   "outputs": [],
   "source": [
    "import os\n",
    "from macros import *\n",
    "import random"
   ]
  },
  {
   "cell_type": "code",
   "execution_count": 3,
   "metadata": {},
   "outputs": [],
   "source": [
    "lines = []\n",
    "with open(os.path.join(DATA, 'pku_training.utf8'), 'r') as f:\n",
    "     lines = f.readlines()"
   ]
  },
  {
   "cell_type": "code",
   "execution_count": 13,
   "metadata": {},
   "outputs": [],
   "source": [
    "ratio = 0.2\n",
    "valid_indices = random.sample(range(len(lines)), \n",
    "                              int(len(lines)*ratio))\n",
    "valid_indices = set(valid_indices)"
   ]
  },
  {
   "cell_type": "code",
   "execution_count": 14,
   "metadata": {},
   "outputs": [],
   "source": [
    "train_pku = []\n",
    "valid_pku = []\n",
    "for i in range(len(lines)):\n",
    "    if i in valid_indices:\n",
    "        valid_pku.append(lines[i])\n",
    "    else:\n",
    "        train_pku.append(lines[i])"
   ]
  },
  {
   "cell_type": "code",
   "execution_count": 16,
   "metadata": {},
   "outputs": [
    {
     "name": "stdout",
     "output_type": "stream",
     "text": [
      "15244 3810\n"
     ]
    }
   ],
   "source": [
    "print(len(train_pku), len(valid_pku))"
   ]
  },
  {
   "cell_type": "code",
   "execution_count": 22,
   "metadata": {},
   "outputs": [],
   "source": [
    "with open(os.path.join(DATA, 'train_pku.utf8'), 'w') as ftrain, \\\n",
    "    open(os.path.join(DATA, 'valid_pku.utf8'), 'w') as fvalid:\n",
    "        ftrain.writelines(train_pku)\n",
    "        fvalid.writelines(valid_pku)"
   ]
  },
  {
   "cell_type": "code",
   "execution_count": null,
   "metadata": {},
   "outputs": [],
   "source": []
  }
 ],
 "metadata": {
  "kernelspec": {
   "display_name": "Python 3",
   "language": "python",
   "name": "python3"
  },
  "language_info": {
   "codemirror_mode": {
    "name": "ipython",
    "version": 3
   },
   "file_extension": ".py",
   "mimetype": "text/x-python",
   "name": "python",
   "nbconvert_exporter": "python",
   "pygments_lexer": "ipython3",
   "version": "3.6.4"
  }
 },
 "nbformat": 4,
 "nbformat_minor": 2
}
